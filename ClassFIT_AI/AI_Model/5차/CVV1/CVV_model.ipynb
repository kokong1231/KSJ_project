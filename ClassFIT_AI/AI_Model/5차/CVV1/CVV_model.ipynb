{
 "cells": [
  {
   "cell_type": "code",
   "execution_count": 1,
   "metadata": {},
   "outputs": [],
   "source": [
    "#최종 코드 / 정확도 출력 X\n",
    "#랜덤포레스트, LR, 결정트리, KNN 피싱 파일 넣은 것\n",
    "import numpy as np\n",
    "import pandas as pd\n",
    "from tqdm import tqdm\n",
    "\n",
    "#모델 생성\n",
    "from sklearn.ensemble import RandomForestClassifier\n",
    "from sklearn.linear_model import LogisticRegression\n",
    "from sklearn.tree import DecisionTreeClassifier\n",
    "from sklearn.ensemble import VotingClassifier\n",
    "from sklearn.neighbors import KNeighborsClassifier\n",
    "from sklearn.metrics import accuracy_score\n",
    "from sklearn.model_selection import train_test_split\n",
    "\n",
    "import warnings\n",
    "import joblib\n",
    "warnings.filterwarnings(action='ignore')\n"
   ]
  },
  {
   "cell_type": "code",
   "execution_count": 2,
   "metadata": {},
   "outputs": [],
   "source": [
    "#데이터 프레임으로 구성된 데이터 읽어오기\n",
    "train_dataset = pd.read_csv('CVV_train1.csv')\n",
    "data_column = train_dataset.columns"
   ]
  },
  {
   "cell_type": "code",
   "execution_count": 3,
   "metadata": {},
   "outputs": [
    {
     "output_type": "stream",
     "name": "stdout",
     "text": [
      "Data Shape =  (10000, 12)\n"
     ]
    }
   ],
   "source": [
    "#훈련용 데이터셋 구성\n",
    "print(\"Data Shape = \", np.shape(train_dataset))\n",
    "\n",
    "X_data = train_dataset[data_column[1:-1]]\n",
    "y_label = train_dataset[data_column[-1]]\n",
    "\n",
    "X_train, X_test, y_train, y_test = train_test_split(X_data, y_label, test_size=0.3)"
   ]
  },
  {
   "cell_type": "code",
   "execution_count": 4,
   "metadata": {
    "scrolled": false
   },
   "outputs": [
    {
     "output_type": "stream",
     "name": "stdout",
     "text": [
      "정확도 :  93.53\n"
     ]
    }
   ],
   "source": [
    "#개별 ML 모델을 위한 Classifier 생성\n",
    "rf_clf = RandomForestClassifier(n_estimators = 230, random_state = 13, criterion = 'gini', max_depth = 100, max_leaf_nodes=350, bootstrap=False)\n",
    "lr_clf = LogisticRegression(solver='newton-cg', random_state = 13)\n",
    "dt_clf = DecisionTreeClassifier(max_depth = 12, random_state = 13)\n",
    "knn_clf = KNeighborsClassifier(n_neighbors = 11)\n",
    "\n",
    "#투표 분류\n",
    "voting_clf = VotingClassifier(\n",
    "   estimators = [('rf', rf_clf), ('lr', lr_clf), ('dt', dt_clf), ('knn', knn_clf)],\n",
    "   voting='soft')\n",
    "\n",
    "joblib.dump(voting_clf, './model.pkl')\n",
    "\n",
    "voting_clf = voting_clf.fit(X_train, y_train)\n",
    "\n",
    "#정확도 출력\n",
    "print('정확도 : ', round(voting_clf.score(X_test, y_test)*100, 2))\n",
    "    "
   ]
  },
  {
   "cell_type": "code",
   "execution_count": 5,
   "metadata": {},
   "outputs": [
    {
     "output_type": "stream",
     "name": "stdout",
     "text": [
      "[1 0 1 0 0 0 0 1 0 0 1 0 0 0 0 1 0 0 1]\n"
     ]
    }
   ],
   "source": [
    "#테스트 데이터셋\n",
    "pred_file = pd.read_csv('CVV_tet1.csv')\n",
    "data_column = pred_file.columns\n",
    "pred_data = pred_file[data_column[1:]]\n",
    "\n",
    "label_data = voting_clf.predict(pred_data)\n",
    "\n",
    "print(label_data)"
   ]
  },
  {
   "cell_type": "code",
   "execution_count": 6,
   "metadata": {},
   "outputs": [
    {
     "output_type": "stream",
     "name": "stdout",
     "text": [
      "Finished\n"
     ]
    }
   ],
   "source": [
    "#url과 예측값을 csv파일로 출력\n",
    "pred_file['label']=label_data\n",
    "result_dataset = pred_file[['url','label']]\n",
    "result_dataset.to_csv('CVV_result1.csv', index=False)\n",
    "\n",
    "print(\"Finished\")"
   ]
  }
 ],
 "metadata": {
  "kernelspec": {
   "display_name": "Python 3",
   "language": "python",
   "name": "python3"
  },
  "language_info": {
   "codemirror_mode": {
    "name": "ipython",
    "version": 3
   },
   "file_extension": ".py",
   "mimetype": "text/x-python",
   "name": "python",
   "nbconvert_exporter": "python",
   "pygments_lexer": "ipython3",
   "version": "3.8.3-final"
  }
 },
 "nbformat": 4,
 "nbformat_minor": 4
}