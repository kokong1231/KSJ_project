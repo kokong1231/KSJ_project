{
 "cells": [
  {
   "cell_type": "code",
   "execution_count": 2,
   "metadata": {},
   "outputs": [],
   "source": [
    "#라이브러리 호출\n",
    "from sklearn.model_selection import train_test_split\n",
    "from lightgbm import LGBMClassifier\n",
    "from sklearn.metrics import accuracy_score\n",
    "import numpy as np\n",
    "import pandas as pd\n",
    "import warnings\n",
    "import joblib\n",
    "\n",
    "warnings.filterwarnings(action='ignore')\n",
    "\n",
    "#1. 데이터셋 읽어오기\n",
    "dataset = pd.read_csv('LGBM_train1.csv')"
   ]
  },
  {
   "cell_type": "code",
   "execution_count": 3,
   "metadata": {
    "scrolled": true
   },
   "outputs": [],
   "source": [
    "#2. 훈련용 데이터셋 구성\n",
    "features = np.array(dataset.iloc[:, 1:-1].values)\n",
    "label = np.array(dataset.iloc[:, -1].values)\n",
    "\n",
    "X_train, X_test, y_train, y_test = train_test_split(features, label, test_size=0.3)\n"
   ]
  },
  {
   "cell_type": "code",
   "execution_count": 4,
   "metadata": {},
   "outputs": [
    {
     "output_type": "stream",
     "name": "stdout",
     "text": [
      "정확도 :  94.6 %\n"
     ]
    }
   ],
   "source": [
    "#3. 학습 데이터 적용해 훈련시키기(LGBM알고리즘 적용)\n",
    "lgbm_wrapper = LGBMClassifier()\n",
    "clf = LGBMClassifier(boosting_type='gbdt', learning_rate=0.01, max_depth=-1, \n",
    "               objective='binary', metric='binary_logloss', num_iterations=1000, random_state=13)\n",
    "\n",
    "print('정확도 : ', round(clf.fit(X_train, y_train).score(X_test, y_test) * 100, 2), '%')"
   ]
  },
  {
   "cell_type": "code",
   "execution_count": 5,
   "metadata": {},
   "outputs": [
    {
     "output_type": "stream",
     "name": "stdout",
     "text": [
      "[1 0 0 0 0 0 0 1 0]\n"
     ]
    }
   ],
   "source": [
    "#4. 테스트데이터셋 예측\n",
    "prediction_file = pd.read_csv('LGBM_test1.csv') #테스트용 데이터셋\n",
    "data_column = prediction_file.columns\n",
    "prediction_data = prediction_file[data_column[1:]]\n",
    "\n",
    "joblib.dump(clf, './model.pkl')\n",
    "\n",
    "label_data = clf.predict(prediction_data)\n",
    "print(label_data)\n",
    "\n"
   ]
  },
  {
   "cell_type": "code",
   "execution_count": 6,
   "metadata": {},
   "outputs": [
    {
     "output_type": "stream",
     "name": "stdout",
     "text": [
      "Finished\n"
     ]
    }
   ],
   "source": [
    "#5. url과 예측 값 저장\n",
    "prediction_file['label']=label_data\n",
    "result_dataset = prediction_file[['url','label']]\n",
    "result_dataset.to_csv('LGBM_result1.csv', index=False)\n",
    "    \n",
    "print('Finished')"
   ]
  },
  {
   "cell_type": "code",
   "execution_count": null,
   "metadata": {},
   "outputs": [],
   "source": []
  }
 ],
 "metadata": {
  "kernelspec": {
   "name": "Python 3.8.3 64-bit (conda)",
   "display_name": "Python 3.8.3 64-bit (conda)",
   "metadata": {
    "interpreter": {
     "hash": "cdcb08921b98b570dd4b0bc3e7b3ec40be07b59616f980b520b35be1198a306b"
    }
   }
  },
  "language_info": {
   "codemirror_mode": {
    "name": "ipython",
    "version": 3
   },
   "file_extension": ".py",
   "mimetype": "text/x-python",
   "name": "python",
   "nbconvert_exporter": "python",
   "pygments_lexer": "ipython3",
   "version": "3.8.3-final"
  }
 },
 "nbformat": 4,
 "nbformat_minor": 4
}