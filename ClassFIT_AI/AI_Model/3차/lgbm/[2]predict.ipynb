{
 "cells": [
  {
   "cell_type": "code",
   "execution_count": 1,
   "metadata": {},
   "outputs": [],
   "source": [
    "#라이브러리 호출\n",
    "from sklearn.model_selection import train_test_split\n",
    "from lightgbm import LGBMClassifier\n",
    "from sklearn.metrics import accuracy_score\n",
    "import numpy as np\n",
    "import pandas as pd\n",
    "\n",
    "#1. 데이터셋 읽어오기\n",
    "train_dataset = pd.read_csv('[1]train.csv')\n"
   ]
  },
  {
   "cell_type": "code",
   "execution_count": 2,
   "metadata": {},
   "outputs": [],
   "source": [
    "#2. 훈련용 데이터셋 구성\n",
    "X_train = np.array(train_dataset.iloc[:, 1:-1].values)\n",
    "y_train = np.array(train_dataset.iloc[:, -1].values)\n"
   ]
  },
  {
   "cell_type": "code",
   "execution_count": 3,
   "metadata": {},
   "outputs": [
    {
     "data": {
      "text/plain": [
       "LGBMClassifier(learning_rate=0.03, metric='binary_logloss', n_estimators=400,\n",
       "               objective='binary')"
      ]
     },
     "execution_count": 3,
     "metadata": {},
     "output_type": "execute_result"
    }
   ],
   "source": [
    "#3. 학습 데이터 적용해 훈련시키기(LGBM알고리즘 적용)\n",
    "lgbm_wrapper = LGBMClassifier(n_estimaors =400)\n",
    "clf = LGBMClassifier(boosting_type='gbdt', learning_rate=0.03, \n",
    "               n_estimators=400, objective='binary', metric='binary_logloss')\n",
    "clf.fit(X_train, y_train)\n"
   ]
  },
  {
   "cell_type": "code",
   "execution_count": 4,
   "metadata": {},
   "outputs": [],
   "source": [
    "#4. 테스트데이터셋\n",
    "test_dataset = pd.read_csv('[1]test.csv') #테스트용 데이터셋\n",
    "test_dataset['label']=np.nan\n",
    "X_test = np.array(test_dataset.iloc[:, 1:-1].values)\n",
    "y_test = np.array(test_dataset.iloc[:, -1].values)\n"
   ]
  },
  {
   "cell_type": "code",
   "execution_count": 5,
   "metadata": {},
   "outputs": [],
   "source": [
    "#5. 예측 값 저장\n",
    "for i in range(0,len(test_dataset)):\n",
    "    X_new = np.array([test_dataset.iloc[i,1:-1].values]) #url 없애서 할 때 [i, :-1]\n",
    "    y_new = clf.predict(X_new)\n",
    "    test_dataset.iloc[i,-1] = y_new\n",
    "    \n"
   ]
  },
  {
   "cell_type": "code",
   "execution_count": 6,
   "metadata": {},
   "outputs": [
    {
     "name": "stdout",
     "output_type": "stream",
     "text": [
      "finished\n"
     ]
    }
   ],
   "source": [
    "# print(r_dataset)\n",
    "result_dataset = test_dataset[['url','label']]\n",
    "result_dataset.to_csv('[1]LGBM_result.csv', index=False)\n",
    "\n",
    "print('finished')\n"
   ]
  }
 ],
 "metadata": {
  "kernelspec": {
   "display_name": "test2",
   "language": "python",
   "name": "test2"
  },
  "language_info": {
   "codemirror_mode": {
    "name": "ipython",
    "version": 3
   },
   "file_extension": ".py",
   "mimetype": "text/x-python",
   "name": "python",
   "nbconvert_exporter": "python",
   "pygments_lexer": "ipython3",
   "version": "3.7.9"
  }
 },
 "nbformat": 4,
 "nbformat_minor": 4
}
