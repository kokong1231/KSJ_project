{
 "cells": [
  {
   "cell_type": "code",
   "execution_count": 6,
   "metadata": {},
   "outputs": [],
   "source": [
    "import numpy as np\n",
    "import pandas as pd"
   ]
  },
  {
   "cell_type": "code",
   "execution_count": 7,
   "metadata": {
    "scrolled": true
   },
   "outputs": [
    {
     "name": "stdout",
     "output_type": "stream",
     "text": [
      "<class 'pandas.core.frame.DataFrame'>\n",
      "                                                    url  favicon  ssl  \\\n",
      "0                    http://tools.ietf.org/html/rfc1216        1    0   \n",
      "1     http://www.hardcoreware.net/reviews/review-118...        0    1   \n",
      "2     http://www.panasonic.com/business/office/cat_p...        1    0   \n",
      "3                   http://cens.ioc.ee/projects/f2py2e/        0    1   \n",
      "4     http://9d345009-a-62cb3a1a-s-sites.googlegroup...        0    0   \n",
      "...                                                 ...      ...  ...   \n",
      "7318       http://bellsouthpwp.net/g/y/gypsyfairy32425/        0    1   \n",
      "7319            http://andamiosyequipos.com/list/remax/        0    0   \n",
      "7320               http://members.tripod.com/rectal666/        0    1   \n",
      "7321                 http://tools.ietf.org/html/rfc1601        1    0   \n",
      "7322   http://www.softpanorama.org/Lang/assembler.shtml        0    1   \n",
      "\n",
      "      page_redirect  url_split_count  email_count  domain_time  label  \n",
      "0                 0                3            0            0      0  \n",
      "1                 0                4            2            0      0  \n",
      "2                 0                3            3            0      0  \n",
      "3                 0                3           -1            0      0  \n",
      "4                 0                9            2            0      1  \n",
      "...             ...              ...          ...          ...    ...  \n",
      "7318              0                2            0            0      0  \n",
      "7319              0                2            4            0      1  \n",
      "7320              0                3            2            0      0  \n",
      "7321              0                3            0            0      0  \n",
      "7322              0                4            0            0      0  \n",
      "\n",
      "[7323 rows x 8 columns]\n"
     ]
    }
   ],
   "source": [
    "#파일불러오기\n",
    "exec_df = pd.read_csv('train1.csv')\n",
    "print(type(exec_df))\n",
    "print(exec_df)"
   ]
  },
  {
   "cell_type": "code",
   "execution_count": 8,
   "metadata": {},
   "outputs": [],
   "source": [
    "#결측치 있는 행 삭제\n",
    "exec_df.dropna(inplace=True) "
   ]
  },
  {
   "cell_type": "code",
   "execution_count": 9,
   "metadata": {},
   "outputs": [
    {
     "name": "stdout",
     "output_type": "stream",
     "text": [
      "Int64Index([   3,   33,   66,   67,   91,  101,  134,  135,  152,  158,\n",
      "            ...\n",
      "            7102, 7111, 7117, 7118, 7129, 7169, 7206, 7235, 7278, 7308],\n",
      "           dtype='int64', length=558)\n",
      "                                                    url  favicon  ssl  \\\n",
      "0                    http://tools.ietf.org/html/rfc1216        1    0   \n",
      "1     http://www.hardcoreware.net/reviews/review-118...        0    1   \n",
      "2     http://www.panasonic.com/business/office/cat_p...        1    0   \n",
      "4     http://9d345009-a-62cb3a1a-s-sites.googlegroup...        0    0   \n",
      "5              http://www.avs4you.com/screensavers.aspx        0    0   \n",
      "...                                                 ...      ...  ...   \n",
      "7318       http://bellsouthpwp.net/g/y/gypsyfairy32425/        0    1   \n",
      "7319            http://andamiosyequipos.com/list/remax/        0    0   \n",
      "7320               http://members.tripod.com/rectal666/        0    1   \n",
      "7321                 http://tools.ietf.org/html/rfc1601        1    0   \n",
      "7322   http://www.softpanorama.org/Lang/assembler.shtml        0    1   \n",
      "\n",
      "      page_redirect  url_split_count  email_count  domain_time  label  \n",
      "0                 0                3            0            0      0  \n",
      "1                 0                4            2            0      0  \n",
      "2                 0                3            3            0      0  \n",
      "4                 0                9            2            0      1  \n",
      "5                 0                4            0            0      0  \n",
      "...             ...              ...          ...          ...    ...  \n",
      "7318              0                2            0            0      0  \n",
      "7319              0                2            4            0      1  \n",
      "7320              0                3            2            0      0  \n",
      "7321              0                3            0            0      0  \n",
      "7322              0                4            0            0      0  \n",
      "\n",
      "[6765 rows x 8 columns]\n"
     ]
    }
   ],
   "source": [
    "#email_count값이 -1인 행 삭제\n",
    "e_c = exec_df[exec_df['email_count']==-1].index\n",
    "print(e_c)\n",
    "result_df = exec_df.drop(e_c)\n",
    "print(result_df)"
   ]
  },
  {
   "cell_type": "code",
   "execution_count": 10,
   "metadata": {},
   "outputs": [],
   "source": [
    "#전처리 수행한 값 result_exec.csv파일로 출력\n",
    "#인덱스 값 삭제해서 바로 AI모델에 이용할 수 있음\n",
    "result_df.to_csv('train1_result_preproc.csv', index=False)"
   ]
  }
 ],
 "metadata": {
  "kernelspec": {
   "display_name": "test2",
   "language": "python",
   "name": "test2"
  },
  "language_info": {
   "codemirror_mode": {
    "name": "ipython",
    "version": 3
   },
   "file_extension": ".py",
   "mimetype": "text/x-python",
   "name": "python",
   "nbconvert_exporter": "python",
   "pygments_lexer": "ipython3",
   "version": "3.7.9"
  }
 },
 "nbformat": 4,
 "nbformat_minor": 4
}
