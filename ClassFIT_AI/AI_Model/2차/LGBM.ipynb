{
 "cells": [
  {
   "cell_type": "code",
   "execution_count": 5,
   "metadata": {},
   "outputs": [
    {
     "name": "stdout",
     "output_type": "stream",
     "text": [
      "finished\n"
     ]
    }
   ],
   "source": [
    "#라이브러리 호출\n",
    "from sklearn.model_selection import train_test_split\n",
    "from lightgbm import LGBMClassifier\n",
    "from sklearn.metrics import accuracy_score\n",
    "import numpy as np\n",
    "import pandas as pd\n",
    "\n",
    "#1. 데이터 프레임으로 구성된 데이터 읽어오기\n",
    "train_dataset = pd.read_csv('ld1.csv')\n",
    "\n",
    "#2. 훈련용 데이터셋 구성\n",
    "#(이제까지는 훈련용과 테스트용으로 나눴지만 label_data 모든 데이터를 훈련용으로 사용함)\n",
    "X_train = np.array(train_dataset.iloc[:, 1:-1].values)\n",
    "y_train = np.array(train_dataset.iloc[:, -1].values)\n",
    "\n",
    "#3. 학습 데이터 적용해 훈련시키기(LGBM알고리즘 적용)\n",
    "lgbm_wrapper = LGBMClassifier(n_estimaors =400)\n",
    "clf = LGBMClassifier(boosting_type='gbdt', learning_rate=0.03, \n",
    "               n_estimators=400, objective='binary', metric='binary_logloss')\n",
    "clf.fit(X_train, y_train)\n",
    "\n",
    "#4. 새로운 임의의 데이터 입력 및 테스트할 데이터\n",
    "#dataframe 생성 및 값 가져오고 예측 값 추가\n",
    "#test용 dataframe 생성\n",
    "test_dataset = pd.read_csv('ld2.csv')\n",
    "test_dataset['label']=np.nan\n",
    "X_test = np.array(test_dataset.iloc[:, 1:-1].values)\n",
    "y_test = np.array(test_dataset.iloc[:, -1].values)\n",
    "\n",
    "#예측값 기입할 열 추가\n",
    "# del r_dataset['url']                               #url 지울때\n",
    "# test_dataset['label']=np.nan\n",
    "\n",
    "#새로운 데이터 입력 및 예측 값 저장\n",
    "for i in range(0,len(test_dataset)):\n",
    "    X_new = np.array([test_dataset.iloc[i,1:-1].values]) #url 없애서 할 때 [i, :-1]\n",
    "#     print(X_new)\n",
    "    y_new = clf.predict(X_new)\n",
    "    test_dataset.iloc[i,-1] = y_new\n",
    "    \n",
    "# print(r_dataset)\n",
    "result_dataset = test_dataset[['url','label']]\n",
    "    \n",
    "result_dataset.to_csv('LGBM_result.csv')\n",
    "\n",
    "print('finished')\n",
    "#5. 정확도 측정\n",
    "# pred = clf.predict(X_test)\n",
    "# accuracy = accuracy_score(y_test, pred)\n",
    "# print(\"테스트 세트의 정확도: {:.2f}\".format(accuracy))"
   ]
  }
 ],
 "metadata": {
  "kernelspec": {
   "display_name": "test2",
   "language": "python",
   "name": "test2"
  },
  "language_info": {
   "codemirror_mode": {
    "name": "ipython",
    "version": 3
   },
   "file_extension": ".py",
   "mimetype": "text/x-python",
   "name": "python",
   "nbconvert_exporter": "python",
   "pygments_lexer": "ipython3",
   "version": "3.7.9"
  }
 },
 "nbformat": 4,
 "nbformat_minor": 4
}
