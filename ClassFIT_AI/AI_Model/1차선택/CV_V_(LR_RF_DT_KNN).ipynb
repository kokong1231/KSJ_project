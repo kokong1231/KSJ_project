{
 "cells": [
  {
   "cell_type": "code",
   "execution_count": 11,
   "metadata": {},
   "outputs": [
    {
     "name": "stdout",
     "output_type": "stream",
     "text": [
      "Random Forest 정확도 : 0.5370\n",
      "Logistic Regression 정확도 : 0.5867\n",
      "Decision Tree 정확도 : 0.5122\n",
      "KNN 정확도 : 0.5304\n",
      "CV 기반 앙상블 모델 정확도 : 0.5370\n"
     ]
    }
   ],
   "source": [
    "#랜덤포레스트, LR, 결정트리, KNN 피싱 파일 넣은 것\n",
    "\n",
    "import numpy as np\n",
    "\n",
    "#모델 생성\n",
    "from sklearn.ensemble import RandomForestClassifier\n",
    "from sklearn.linear_model import LogisticRegression\n",
    "from sklearn.tree import DecisionTreeClassifier\n",
    "from sklearn.ensemble import VotingClassifier\n",
    "from sklearn.neighbors import KNeighborsClassifier\n",
    "\n",
    "from sklearn.metrics import accuracy_score\n",
    "import pandas as pd\n",
    "from sklearn.model_selection import train_test_split\n",
    "\n",
    "dataset = pd.read_csv('../../Dataset/label_data.csv')\n",
    "X_data = np.array(dataset.iloc[:, 1:9].values)\n",
    "y_label = np.array(dataset.iloc[:, -1].values)\n",
    "\n",
    "X_training, X_testing, y_training, y_testing = train_test_split(X_data, y_label, test_size = 0.2, random_state = 0)\n",
    "\n",
    "#개별 ML 모델을 위한 Classifier 생성\n",
    "rf_clf = RandomForestClassifier(n_estimators = 100, random_state = 0)\n",
    "lr_clf = LogisticRegression(solver = 'liblinear', random_state = 0)\n",
    "dt_clf = DecisionTreeClassifier()\n",
    "knn_clf = KNeighborsClassifier()\n",
    "\n",
    "# 개별 모델들을 학습\n",
    "rf_clf.fit(X_training, y_training)  \n",
    "lr_clf.fit(X_training, y_training)\n",
    "dt_clf.fit(X_training, y_training)\n",
    "knn_clf.fit(X_training, y_training)\n",
    "\n",
    "#학습된 개별 모델들이 각자 반환하는 예측 데이터 셋을 생성하고 개별 모델의 정확도 측정\n",
    "rf_pred = rf_clf.predict(X_testing)\n",
    "lr_pred = lr_clf.predict(X_testing)\n",
    "dt_pred = dt_clf.predict(X_testing)\n",
    "knn_pred = knn_clf.predict(X_testing)\n",
    "\n",
    "print('Random Forest 정확도 : {0:.4f}'.format(accuracy_score(y_testing, rf_pred)))\n",
    "print('Logistic Regression 정확도 : {0:.4f}'.format(accuracy_score(y_testing, lr_pred)))\n",
    "#print('SVM 정확도 : {0:.4f}'.format(accuracy_score(y_testing, svm_pred)))\n",
    "print('Decision Tree 정확도 : {0:.4f}'.format(accuracy_score(y_testing, dt_pred)))\n",
    "print('KNN 정확도 : {0:.4f}'.format(accuracy_score(y_testing, knn_pred)))\n",
    "\n",
    "#투표 분류\n",
    "voting_clf = VotingClassifier(\n",
    "\testimators = [('rf', rf_clf), ('lr', lr_clf), ('dt', dt_clf), ('knn', knn_clf)],\n",
    "\tvoting='soft')\n",
    "\n",
    "voting_clf.fit(X_training, y_training)\n",
    "\n",
    "voting_pred = voting_clf.predict(X_testing)\n",
    "\n",
    "print('CV 기반 앙상블 모델 정확도 : {0:.4f}'.format(accuracy_score(y_testing, voting_pred)))"
   ]
  },
  {
   "cell_type": "code",
   "execution_count": null,
   "metadata": {},
   "outputs": [],
   "source": []
  }
 ],
 "metadata": {
  "kernelspec": {
   "display_name": "Python 3",
   "language": "python",
   "name": "python3"
  },
  "language_info": {
   "codemirror_mode": {
    "name": "ipython",
    "version": 3
   },
   "file_extension": ".py",
   "mimetype": "text/x-python",
   "name": "python",
   "nbconvert_exporter": "python",
   "pygments_lexer": "ipython3",
   "version": "3.8.5"
  }
 },
 "nbformat": 4,
 "nbformat_minor": 4
}
