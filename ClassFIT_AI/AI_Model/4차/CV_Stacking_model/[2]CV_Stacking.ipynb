{
 "cells": [
  {
   "cell_type": "code",
   "execution_count": 1,
   "metadata": {},
   "outputs": [],
   "source": [
    "#라이브러리 호출\n",
    "from sklearn.model_selection import train_test_split\n",
    "from sklearn.linear_model import LogisticRegression\n",
    "from sklearn.ensemble import RandomForestClassifier\n",
    "from sklearn.tree import DecisionTreeClassifier\n",
    "from sklearn.neighbors import KNeighborsClassifier\n",
    "from sklearn.model_selection import KFold\n",
    "from sklearn.metrics import accuracy_score\n",
    "import warnings\n",
    "import numpy as np\n",
    "import pandas as pd\n",
    "\n",
    "warnings.filterwarnings(action='ignore')\n"
   ]
  },
  {
   "cell_type": "code",
   "execution_count": 2,
   "metadata": {},
   "outputs": [],
   "source": [
    "#데이터셋 읽어오기\n",
    "\n",
    "dataset = pd.read_csv('[2]label_data.csv')"
   ]
  },
  {
   "cell_type": "code",
   "execution_count": 3,
   "metadata": {},
   "outputs": [],
   "source": [
    "#훈련용 데이터셋 구성\n",
    "\n",
    "X_data = np.array(dataset.iloc[:, 1:-1].values)\n",
    "y_label = np.array(dataset.iloc[:, -1].values)\n",
    "\n",
    "X_train, X_test, y_train, y_test = train_test_split(X_data, y_label)"
   ]
  },
  {
   "cell_type": "code",
   "execution_count": 4,
   "metadata": {},
   "outputs": [
    {
     "data": {
      "text/plain": [
       "KNeighborsClassifier()"
      ]
     },
     "execution_count": 4,
     "metadata": {},
     "output_type": "execute_result"
    }
   ],
   "source": [
    "#학습데이터 적용해 개별모델 훈련시키기\n",
    "\n",
    "#RandomForest\n",
    "model_forest = RandomForestClassifier(n_estimators=10)\n",
    "model_forest.fit(X_train, y_train)\n",
    "#score_forest = model_forest.score(X_test, y_test)\n",
    "#print(score_forest)\n",
    "\n",
    "#DecisionTree\n",
    "model_dt = DecisionTreeClassifier(random_state=0)\n",
    "model_dt.fit(X_train, y_train)\n",
    "#score_dt = model_dt.score(X_test, y_test)\n",
    "#print(score_dt)\n",
    "\n",
    "#KNN\n",
    "model_knn = KNeighborsClassifier()\n",
    "model_knn.fit(X_train, y_train)\n",
    "#score_knn = model_knn.score(X_test, y_test)\n",
    "#print(score_knn)"
   ]
  },
  {
   "cell_type": "code",
   "execution_count": 5,
   "metadata": {},
   "outputs": [],
   "source": [
    "#cv 훈련 과정\n",
    "def get_stacking_datasets(model, x_train_n, y_train_n, x_test_n, n_folds) :\n",
    "    kf = KFold(n_splits=n_folds, shuffle=False, random_state=42)\n",
    "    \n",
    "    train_fold_pred = np.zeros((x_train_n.shape[0], 1))\n",
    "    test_pred = np.zeros((x_test_n.shape[0], n_folds))\n",
    "    print(model.__class__.__name__, '모델 시작')\n",
    "    \n",
    "    for folder_counter, (train_idx, valid_idx) in enumerate(kf.split(x_train_n)) :\n",
    "        #print(f\"Fold 횟수 : {folder_counter + 1}\")\n",
    "        x_tr = x_train_n[train_idx]\n",
    "        y_tr = y_train_n[train_idx]\n",
    "        x_te = x_train_n[valid_idx]\n",
    "        \n",
    "        model.fit(x_tr, y_tr)\n",
    "        train_fold_pred[valid_idx, :] = model.predict(x_te).reshape(-1, 1)\n",
    "        test_pred[:, folder_counter] = model.predict(x_test_n)\n",
    "    \n",
    "    test_pred_mean = np.mean(test_pred, axis=1).reshape(-1, 1)\n",
    "    \n",
    "    return train_fold_pred, test_pred_mean"
   ]
  },
  {
   "cell_type": "code",
   "execution_count": 6,
   "metadata": {},
   "outputs": [
    {
     "name": "stdout",
     "output_type": "stream",
     "text": [
      "DecisionTreeClassifier 모델 시작\n",
      "KNeighborsClassifier 모델 시작\n",
      "RandomForestClassifier 모델 시작\n",
      "최종 메타모델 정확도 : , 94.4800   %\n"
     ]
    }
   ],
   "source": [
    "#학습데이터 적용해 cv적용 통합모델 훈련\n",
    "\n",
    "lr_final = LogisticRegression(C=10)\n",
    "\n",
    "train_dt, test_dt = get_stacking_datasets(model_dt, X_train, y_train, X_test, 4)\n",
    "train_knn, test_knn = get_stacking_datasets(model_knn, X_train, y_train, X_test, 4)\n",
    "train_forest, test_forest = get_stacking_datasets(model_forest, X_train, y_train, X_test, 4)\n",
    "\n",
    "stack_final_x_train = np.concatenate((train_dt, train_knn, train_forest), axis=1)\n",
    "stack_final_x_test = np.concatenate((test_dt, test_knn, test_forest), axis=1)\n",
    "lr_final.fit(stack_final_x_train, y_train)\n",
    "stack_final_pred = lr_final.predict(stack_final_x_test)\n",
    "\n",
    "print(f\"최종 메타모델 정확도 : , {accuracy_score(y_test, stack_final_pred)*100:.4f}  \" , \"%\")"
   ]
  },
  {
   "cell_type": "markdown",
   "metadata": {},
   "source": [
    "#### "
   ]
  },
  {
   "cell_type": "code",
   "execution_count": 7,
   "metadata": {},
   "outputs": [],
   "source": [
    "# 테스트 데이터셋\n",
    "\n",
    "test_dataset = pd.read_csv('[2]test.csv')\n",
    "test_dataset['label']=np.nan\n",
    "X_test = np.array(test_dataset.iloc[:, 1:-1].values)\n",
    "y_test = np.array(test_dataset.iloc[:, -1].values)"
   ]
  },
  {
   "cell_type": "code",
   "execution_count": 8,
   "metadata": {},
   "outputs": [
    {
     "name": "stdout",
     "output_type": "stream",
     "text": [
      "DecisionTreeClassifier 모델 시작\n",
      "KNeighborsClassifier 모델 시작\n",
      "RandomForestClassifier 모델 시작\n",
      "Finished\n"
     ]
    }
   ],
   "source": [
    "#결과 라벨 생성 및 저장\n",
    "train_dt, test_dt = get_stacking_datasets(model_dt, X_train, y_train, X_test, 4)\n",
    "train_knn, test_knn = get_stacking_datasets(model_knn, X_train, y_train, X_test, 4)\n",
    "train_forest, test_forest = get_stacking_datasets(model_forest, X_train, y_train, X_test, 4)\n",
    "\n",
    "stack_final_x_train = np.concatenate((train_dt, train_knn, train_forest), axis=1)\n",
    "stack_final_x_test = np.concatenate((test_dt, test_knn, test_forest), axis=1)\n",
    "lr_final.fit(stack_final_x_train, y_train)\n",
    "stack_final_pred = lr_final.predict(stack_final_x_test)\n",
    "\n",
    "test_dataset['label']=stack_final_pred\n",
    "result_dataset = test_dataset[['url','label']]\n",
    "result_dataset.to_csv('[2]CVS_result.csv')\n",
    "\n",
    "print(\"Finished\")"
   ]
  },
  {
   "cell_type": "code",
   "execution_count": null,
   "metadata": {},
   "outputs": [],
   "source": []
  }
 ],
 "metadata": {
  "kernelspec": {
   "display_name": "Python 3",
   "language": "python",
   "name": "python3"
  },
  "language_info": {
   "codemirror_mode": {
    "name": "ipython",
    "version": 3
   },
   "file_extension": ".py",
   "mimetype": "text/x-python",
   "name": "python",
   "nbconvert_exporter": "python",
   "pygments_lexer": "ipython3",
   "version": "3.8.3"
  }
 },
 "nbformat": 4,
 "nbformat_minor": 4
}
