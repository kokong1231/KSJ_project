{
 "cells": [
  {
   "cell_type": "code",
   "execution_count": 41,
   "metadata": {},
   "outputs": [],
   "source": [
    "from sklearn.ensemble import RandomForestClassifier\n",
    "from sklearn.svm import LinearSVC\n",
    "from sklearn.linear_model import LogisticRegression\n",
    "from sklearn.preprocessing import StandardScaler\n",
    "from sklearn.pipeline import make_pipeline\n",
    "from sklearn.ensemble import StackingClassifier\n",
    "from sklearn.model_selection import train_test_split\n",
    "\n",
    "import pandas as pd"
   ]
  },
  {
   "cell_type": "code",
   "execution_count": 42,
   "metadata": {},
   "outputs": [],
   "source": [
    "data_save = pd.read_csv('./data_label.csv')\n",
    "data_column = data_save.columns\n",
    "\n",
    "#label_data = data_save[data_column[1:]]\n",
    "\n",
    "x_data = data_save[data_column[1:-1]]\n",
    "y_data = data_save[data_column[-1]]"
   ]
  },
  {
   "cell_type": "code",
   "execution_count": 43,
   "metadata": {},
   "outputs": [],
   "source": [
    "estimators = [\n",
    "    ('rf', RandomForestClassifier(n_estimators=100, random_state=450, criterion='gini', max_depth=100, min_samples_leaf=1, max_features='log2', max_leaf_nodes=350, bootstrap=False)),\n",
    "    ('svr', make_pipeline(StandardScaler(),\n",
    "                        LinearSVC(random_state=400)))\n",
    "]"
   ]
  },
  {
   "cell_type": "code",
   "execution_count": 44,
   "metadata": {},
   "outputs": [],
   "source": [
    "clf = StackingClassifier(estimators=estimators, final_estimator=LogisticRegression(C=1.0, fit_intercept=True, solver='newton-cg', max_iter=170, multi_class='auto', tol=0.0004, random_state=340))"
   ]
  },
  {
   "cell_type": "code",
   "execution_count": 45,
   "metadata": {},
   "outputs": [],
   "source": [
    "X_train, X_test, y_train, y_test = train_test_split(x_data, y_data, test_size=0.3)"
   ]
  },
  {
   "cell_type": "code",
   "execution_count": 46,
   "metadata": {},
   "outputs": [
    {
     "output_type": "stream",
     "name": "stdout",
     "text": [
      "정확도 :  94.11 %\n"
     ]
    }
   ],
   "source": [
    "print('정확도 : ', round(clf.fit(X_train, y_train).score(X_test, y_test) * 100, 2), '%')"
   ]
  },
  {
   "cell_type": "code",
   "execution_count": 49,
   "metadata": {},
   "outputs": [],
   "source": [
    "prediction_file = pd.read_csv('./feature.csv')\n",
    "prediction_data = prediction_file[data_column[1:-1]]\n",
    "\n",
    "label_data = clf.predict(prediction_data)"
   ]
  }
 ],
 "metadata": {
  "kernelspec": {
   "display_name": "Python 3",
   "language": "python",
   "name": "python3"
  },
  "language_info": {
   "codemirror_mode": {
    "name": "ipython",
    "version": 3
   },
   "file_extension": ".py",
   "mimetype": "text/x-python",
   "name": "python",
   "nbconvert_exporter": "python",
   "pygments_lexer": "ipython3",
   "version": "3.8.5-final"
  }
 },
 "nbformat": 4,
 "nbformat_minor": 4
}