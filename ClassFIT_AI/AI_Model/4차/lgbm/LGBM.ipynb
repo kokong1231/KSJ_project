{
 "cells": [
  {
   "cell_type": "code",
   "execution_count": 25,
   "metadata": {},
   "outputs": [],
   "source": [
    "#라이브러리 호출\n",
    "from sklearn.model_selection import train_test_split\n",
    "from lightgbm import LGBMClassifier\n",
    "from sklearn.metrics import accuracy_score\n",
    "import numpy as np\n",
    "import pandas as pd\n",
    "import warnings\n",
    "warnings.filterwarnings(action='ignore')\n",
    "\n",
    "#1. 데이터셋 읽어오기\n",
    "# train_dataset = pd.read_csv('LGBM_LABELDATA.csv')\n",
    "dataset = pd.read_csv('lgbm_4.csv')"
   ]
  },
  {
   "cell_type": "code",
   "execution_count": 26,
   "metadata": {
    "scrolled": true
   },
   "outputs": [],
   "source": [
    "#2. 훈련용 데이터셋 구성\n",
    "# X_train = np.array(train_dataset.iloc[:, 1:-1].values)\n",
    "# y_train = np.array(train_dataset.iloc[:, -1].values)\n",
    "\n",
    "features = np.array(dataset.iloc[:, 1:-1].values)\n",
    "label = np.array(dataset.iloc[:, -1].values)\n",
    "\n",
    "X_train, X_test, y_train, y_test = train_test_split(features, label, test_size=0.3)\n"
   ]
  },
  {
   "cell_type": "code",
   "execution_count": 27,
   "metadata": {},
   "outputs": [
    {
     "name": "stdout",
     "output_type": "stream",
     "text": [
      "정확도 :  90.96 %\n"
     ]
    }
   ],
   "source": [
    "#3. 학습 데이터 적용해 훈련시키기(LGBM알고리즘 적용)\n",
    "lgbm_wrapper = LGBMClassifier()\n",
    "clf = LGBMClassifier(boosting_type='gbdt', learning_rate=0.01, max_depth=-1, \n",
    "               objective='binary', metric='binary_logloss', num_iterations=1000)\n",
    "\n",
    "# clf.fit(X_train, y_train)\n",
    "print('정확도 : ', round(clf.fit(X_train, y_train).score(X_test, y_test) * 100, 2), '%')\n"
   ]
  },
  {
   "cell_type": "code",
   "execution_count": 28,
   "metadata": {},
   "outputs": [],
   "source": [
    "#4. 테스트데이터셋\n",
    "test_dataset = pd.read_csv('test4.csv') #테스트용 데이터셋\n",
    "test_dataset['label']=np.nan\n",
    "X_test = np.array(test_dataset.iloc[:, 1:-1].values)\n",
    "y_test = np.array(test_dataset.iloc[:, -1].values)\n"
   ]
  },
  {
   "cell_type": "code",
   "execution_count": 29,
   "metadata": {},
   "outputs": [],
   "source": [
    "#5. 예측 값 저장\n",
    "for i in range(0,len(test_dataset)):\n",
    "    X_new = np.array([test_dataset.iloc[i,1:-1].values]) #url 없애서 할 때 [i, :-1]\n",
    "    y_new = clf.predict(X_new)\n",
    "    test_dataset.iloc[i,-1] = y_new\n",
    "    \n"
   ]
  },
  {
   "cell_type": "code",
   "execution_count": 30,
   "metadata": {},
   "outputs": [
    {
     "name": "stdout",
     "output_type": "stream",
     "text": [
      "finished\n"
     ]
    }
   ],
   "source": [
    "# print(r_dataset)\n",
    "result_dataset = test_dataset[['url','label']]\n",
    "result_dataset.to_csv('RESULT.csv', index=False)\n",
    "\n",
    "print('finished')\n"
   ]
  }
 ],
 "metadata": {
  "kernelspec": {
   "display_name": "test2",
   "language": "python",
   "name": "test2"
  },
  "language_info": {
   "codemirror_mode": {
    "name": "ipython",
    "version": 3
   },
   "file_extension": ".py",
   "mimetype": "text/x-python",
   "name": "python",
   "nbconvert_exporter": "python",
   "pygments_lexer": "ipython3",
   "version": "3.7.9"
  }
 },
 "nbformat": 4,
 "nbformat_minor": 4
}
