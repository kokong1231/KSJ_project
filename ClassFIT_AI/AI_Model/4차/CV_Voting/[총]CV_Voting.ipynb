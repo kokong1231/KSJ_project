{
 "cells": [
  {
   "cell_type": "code",
   "execution_count": 134,
   "metadata": {},
   "outputs": [
    {
     "name": "stdout",
     "output_type": "stream",
     "text": [
      "Data Shape =  (2999, 8)\n",
      "Data Shape =  (7001, 8)\n"
     ]
    },
    {
     "name": "stderr",
     "output_type": "stream",
     "text": [
      "100%|██████████| 7001/7001 [01:13<00:00, 95.58it/s] \n"
     ]
    }
   ],
   "source": [
    "#최종 코드 / 정확도 출력 X\n",
    "#랜덤포레스트, LR, 결정트리, KNN 피싱 파일 넣은 것\n",
    "import numpy as np\n",
    "import pandas as pd\n",
    "from tqdm import tqdm\n",
    "import matplotlib.pyplot as plt\n",
    "\n",
    "#모델 생성\n",
    "from sklearn.ensemble import RandomForestClassifier\n",
    "from sklearn.linear_model import LogisticRegression\n",
    "from sklearn.tree import DecisionTreeClassifier\n",
    "from sklearn.ensemble import VotingClassifier\n",
    "from sklearn.neighbors import KNeighborsClassifier\n",
    "from sklearn.metrics import accuracy_score\n",
    "from sklearn.model_selection import train_test_split\n",
    "\n",
    "#데이터 프레임으로 구성된 데이터 읽어오기\n",
    "train_dataset = pd.read_csv('[1]label_train.csv')\n",
    "\n",
    "#훈련용 데이터셋 구성\n",
    "print(\"Data Shape = \", np.shape(train_dataset))\n",
    "X_train = np.array(train_dataset.iloc[:, 1:-1].values)\n",
    "y_train = np.array(train_dataset.iloc[:, -1].values)\n",
    "\n",
    "\n",
    "#개별 ML 모델을 위한 Classifier 생성\n",
    "rf_clf = RandomForestClassifier(n_estimators = 100, random_state = 450, criterion = 'gini', max_depth = 100, max_leaf_nodes=350, bootstrap=False)\n",
    "lr_clf = LogisticRegression(solver='newton-cg', random_state = 0)\n",
    "dt_clf = DecisionTreeClassifier(max_depth = 9, random_state = 300)\n",
    "knn_clf = KNeighborsClassifier(n_neighbors = 8)\n",
    "\n",
    "test_dataset = pd.read_csv('[1]label_test.csv')\n",
    "print(\"Data Shape = \", np.shape(test_dataset))\n",
    "X_test = np.array(test_dataset.iloc[:, 1:-1].values)\n",
    "y_test = np.array(test_dataset.iloc[:, -1].values)\n",
    "\n",
    "#예측값을 기입할 열 추가\n",
    "test_dataset['label'] = np.nan\n",
    "\n",
    "#투표 분류\n",
    "voting_clf = VotingClassifier(\n",
    "   estimators = [('rf', rf_clf), ('lr', lr_clf), ('dt', dt_clf), ('knn', knn_clf)],\n",
    "   voting='soft')\n",
    "\n",
    "voting_clf = voting_clf.fit(X_train, y_train)\n",
    "\n",
    "#새로운 데이터 입력 및 예측 값 저장\n",
    "for i in tqdm(range(0,len(test_dataset))):\n",
    "    X_new = np.array([test_dataset.iloc[i, 1:-1].values]) #url 없애서 할 때 [i, :-1]\n",
    "    y_new = voting_clf.predict(X_new)\n",
    "    test_dataset.iloc[i,-1] = y_new\n",
    "\n",
    "result_dataset = test_dataset[['url','label']]\n",
    "\n",
    "result_dataset.to_csv('result_1-2.csv', index=False)\n"
   ]
  },
  {
   "cell_type": "code",
   "execution_count": null,
   "metadata": {},
   "outputs": [],
   "source": []
  }
 ],
 "metadata": {
  "kernelspec": {
   "display_name": "Python 3",
   "language": "python",
   "name": "python3"
  },
  "language_info": {
   "codemirror_mode": {
    "name": "ipython",
    "version": 3
   },
   "file_extension": ".py",
   "mimetype": "text/x-python",
   "name": "python",
   "nbconvert_exporter": "python",
   "pygments_lexer": "ipython3",
   "version": "3.8.3"
  }
 },
 "nbformat": 4,
 "nbformat_minor": 4
}
