{
 "cells": [
  {
   "cell_type": "code",
   "execution_count": 181,
   "metadata": {},
   "outputs": [
    {
     "name": "stdout",
     "output_type": "stream",
     "text": [
      "Data Shape =  (10000, 12)\n"
     ]
    }
   ],
   "source": [
    "#최종 코드 / 정확도 출력 X\n",
    "#랜덤포레스트, LR, 결정트리, KNN 피싱 파일 넣은 것\n",
    "import numpy as np\n",
    "import pandas as pd\n",
    "from tqdm import tqdm\n",
    "\n",
    "#모델 생성\n",
    "from sklearn.ensemble import RandomForestClassifier\n",
    "from sklearn.linear_model import LogisticRegression\n",
    "from sklearn.tree import DecisionTreeClassifier\n",
    "from sklearn.ensemble import VotingClassifier\n",
    "from sklearn.neighbors import KNeighborsClassifier\n",
    "from sklearn.metrics import accuracy_score\n",
    "from sklearn.model_selection import train_test_split\n",
    "\n",
    "#데이터 프레임으로 구성된 데이터 읽어오기\n",
    "train_dataset = pd.read_csv('[new]label_data.csv')\n",
    "data_column = train_dataset.columns\n",
    "\n",
    "#훈련용 데이터셋 구성\n",
    "print(\"Data Shape = \", np.shape(train_dataset))\n",
    "#X_data = np.array(train_dataset.iloc[:, 1:-1].values)\n",
    "#y_label = np.array(train_dataset.iloc[:, -1].values)\n",
    "X_data = train_dataset[data_column[1:-1]]\n",
    "y_label = train_dataset[data_column[-1]]\n",
    "\n",
    "X_train, X_test, y_train, y_test = train_test_split(X_data, y_label, test_size=0.3)"
   ]
  },
  {
   "cell_type": "code",
   "execution_count": 182,
   "metadata": {},
   "outputs": [
    {
     "name": "stdout",
     "output_type": "stream",
     "text": [
      "정확도 :  93.03\n"
     ]
    }
   ],
   "source": [
    "#개별 ML 모델을 위한 Classifier 생성\n",
    "rf_clf = RandomForestClassifier(n_estimators = 100, random_state = 450, criterion = 'gini', max_depth = 100, max_leaf_nodes=350, bootstrap=False)\n",
    "lr_clf = LogisticRegression(solver='newton-cg', random_state = 0)\n",
    "dt_clf = DecisionTreeClassifier(max_depth = 9, random_state = 300)\n",
    "knn_clf = KNeighborsClassifier(n_neighbors = 8)\n",
    "\n",
    "#투표 분류\n",
    "voting_clf = VotingClassifier(\n",
    "   estimators = [('rf', rf_clf), ('lr', lr_clf), ('dt', dt_clf), ('knn', knn_clf)],\n",
    "   voting='soft')\n",
    "\n",
    "voting_clf = voting_clf.fit(X_train, y_train)\n",
    "\n",
    "print('정확도 : ', round(voting_clf.score(X_test, y_test)*100, 2))\n",
    "\n",
    "pred_file = pd.read_csv('[new]feature.csv')\n",
    "pred_data = pred_file[data_column[1:-1]]\n",
    "\n",
    "label_data = voting_clf.predict(pred_data)"
   ]
  },
  {
   "cell_type": "code",
   "execution_count": null,
   "metadata": {},
   "outputs": [],
   "source": []
  }
 ],
 "metadata": {
  "kernelspec": {
   "display_name": "Python 3",
   "language": "python",
   "name": "python3"
  },
  "language_info": {
   "codemirror_mode": {
    "name": "ipython",
    "version": 3
   },
   "file_extension": ".py",
   "mimetype": "text/x-python",
   "name": "python",
   "nbconvert_exporter": "python",
   "pygments_lexer": "ipython3",
   "version": "3.8.3"
  }
 },
 "nbformat": 4,
 "nbformat_minor": 4
}
